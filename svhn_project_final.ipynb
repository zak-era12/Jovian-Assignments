{
  "nbformat": 4,
  "nbformat_minor": 0,
  "metadata": {
    "colab": {
      "name": "svhn_project_final.ipynb",
      "provenance": [],
      "collapsed_sections": [],
      "include_colab_link": true
    },
    "kernelspec": {
      "display_name": "Python 3",
      "language": "python",
      "name": "python3"
    },
    "language_info": {
      "codemirror_mode": {
        "name": "ipython",
        "version": 3
      },
      "file_extension": ".py",
      "mimetype": "text/x-python",
      "name": "python",
      "nbconvert_exporter": "python",
      "pygments_lexer": "ipython3",
      "version": "3.7.6"
    }
  },
  "cells": [
    {
      "cell_type": "markdown",
      "metadata": {
        "id": "view-in-github",
        "colab_type": "text"
      },
      "source": [
        "<a href=\"https://colab.research.google.com/github/zak-era12/Jovian-Assignments/blob/main/svhn_project_final.ipynb\" target=\"_parent\"><img src=\"https://colab.research.google.com/assets/colab-badge.svg\" alt=\"Open In Colab\"/></a>"
      ]
    },
    {
      "cell_type": "markdown",
      "metadata": {
        "id": "ej42J7i8KRCo"
      },
      "source": [
        "*Street View House Numbers Detection *"
      ]
    },
    {
      "cell_type": "code",
      "metadata": {
        "id": "BVc2HzwLKF_Q"
      },
      "source": [
        "# Jovian Commit Essentials\n",
        "# Please retain and execute this cell without modifying the contents for `jovian.commit` to work\n",
        "!pip install jovian --upgrade -q\n",
        "import jovian\n",
        "jovian.utils.colab.set_colab_file_id('1CyGLz-F5suBnoDLfkTyWFiYfCJN5osvj')"
      ],
      "execution_count": null,
      "outputs": []
    },
    {
      "cell_type": "code",
      "metadata": {
        "id": "dYoztvjqKF_b"
      },
      "source": [
        "!pip install jovian --upgrade --quiet"
      ],
      "execution_count": null,
      "outputs": []
    },
    {
      "cell_type": "markdown",
      "metadata": {
        "id": "4T7orMeyKjAU"
      },
      "source": [
        "Our main goal is to detect and read house-number signs in Street View images. The entire end-toend system (described later) includes two main stages:\n",
        "\n",
        "a detection stage that locates individual house numbers in a large image, and\n",
        "a recognition stage that performs a search over possible character locations in the detected house number, classifying each candidate frame as one of ten digits (0 through 9)"
      ]
    },
    {
      "cell_type": "markdown",
      "metadata": {
        "id": "xijdjsf4KoAF"
      },
      "source": [
        "**About the Dataset** <br>\n",
        "The SVHN dataset was obtained from a large number of Street View images using a combination\n",
        "of automated algorithms and the Amazon Mechanical Turk (AMT) framework, which was used to localize and transcribe the single digits. We downloaded a very large set of images from\n",
        "urban areas in various countries. From these randomly selected images, the house-number patches\n",
        "were extracted using a dedicated sliding window house-numbers detector using a low threshold\n",
        "on the detector’s confidence score in order to get a varied, unbiased dataset of house-number signs.\n",
        "These low precision detections1 were screened and transcribed by AMT workers. In total, the dataset\n",
        "comprises over 600,000 labeled characters, and has been made available in two formats:\n",
        "\n",
        "\n",
        "*   Full Numbers - the original, variable-resolution, color house-number images as they appeared in the image file. Each image includes a transcription of the detected digits as well\n",
        "as character level bounding boxes. Figure 2 shows the large variation in character height\n",
        "as measured by the height of the bounding box of the characters in the original Street View\n",
        "images.\n",
        "*   Cropped Digits - character level ground truth - in this MNIST-like format all digits have\n",
        "been resized to a fixed resolution of 32-by-32 pixels. The original character bounding boxes\n",
        "are extended in the appropriate dimension to become square windows, so that resizing them\n",
        "to 32-by-32 pixels does not introduce aspect ratio distortions.\n",
        "\n",
        "The dataset is divided into three subsets-\n",
        "\n",
        "\n",
        "*  SVHN train - 73,257 digits for training\n",
        "* SVHN test - 26,032 digits for testing.\n",
        "* SVHN extra (train) - 531,131 additional, somewhat less difficult samples, to use as extra\n",
        "training data.\n",
        "  "
      ]
    },
    {
      "cell_type": "code",
      "metadata": {
        "id": "mP6tFuu_K3cq"
      },
      "source": [
        "project_name='svhn-project-final'"
      ],
      "execution_count": null,
      "outputs": []
    },
    {
      "cell_type": "code",
      "metadata": {
        "id": "_kcdUZj-LA4D"
      },
      "source": [
        "# Importing necessary libraries\n",
        "import os \n",
        "import torch \n",
        "import pandas as pd\n",
        "import numpy as np\n",
        "from torch.utils.data import Dataset, random_split, DataLoader\n",
        "from PIL import Image \n",
        "import torchvision.models as models\n",
        "import matplotlib.pyplot as plt\n",
        "from torchvision.datasets import ImageFolder\n",
        "import torchvision.transforms as transforms\n",
        "from sklearn.metrics import f1_score\n",
        "import torch.nn.functional as F\n",
        "import torch.nn as nn \n",
        "from torchvision.utils import make_grid\n",
        "from torchvision.datasets.utils import download_url\n",
        "import tarfile\n",
        "%matplotlib inline\n",
        "import tensorflow\n",
        "import warnings\n",
        "warnings.filterwarnings('ignore')\n",
        "from keras.layers.normalization import BatchNormalization\n",
        "from keras.layers import Conv2D, MaxPooling2D, Flatten\n",
        "from keras.models import Sequential\n",
        "from keras.layers import Dense, Dropout, Activation\n",
        "from keras.models import load_model\n",
        "from sklearn.metrics import accuracy_score\n",
        "import keras\n",
        "import tempfile\n",
        "import seaborn as sns\n",
        "import scipy\n",
        "from scipy.io import loadmat\n",
        "import os\n",
        "import numpy as np\n",
        "import pandas as pd\n",
        "## View sample data\n",
        "import matplotlib.pyplot as plt\n",
        "import matplotlib.image as mpimg\n",
        "from scipy.ndimage.filters import correlate, convolve\n",
        "from ipywidgets import interact, interactive, fixed\n",
        "from ipywidgets.widgets import *\n",
        "import shutil"
      ],
      "execution_count": null,
      "outputs": []
    },
    {
      "cell_type": "code",
      "metadata": {
        "colab": {
          "base_uri": "https://localhost:8080/"
        },
        "id": "8bPnGnsdLRxp",
        "outputId": "c86a1a06-f06f-4c94-d70c-404b3e12605e"
      },
      "source": [
        "#Download the dataset\n",
        "train_data=\"http://ufldl.stanford.edu/housenumbers/train_32x32.mat\"\n",
        "download_url(train_data,'.')\n",
        "test_data=\"http://ufldl.stanford.edu/housenumbers/test_32x32.mat\"\n",
        "download_url(test_data, '.')\n",
        "# Read the Image Data\n",
        "train_data = loadmat('train_32x32.mat')\n",
        "test_data = loadmat('test_32x32.mat')"
      ],
      "execution_count": null,
      "outputs": [
        {
          "name": "stdout",
          "output_type": "stream",
          "text": [
            "Using downloaded and verified file: ./train_32x32.mat\n",
            "Using downloaded and verified file: ./test_32x32.mat\n"
          ]
        }
      ]
    },
    {
      "cell_type": "code",
      "metadata": {
        "id": "08Tn6L6TMGyD"
      },
      "source": [
        "# Save the Images in structure form\n",
        "y_train = keras.utils.to_categorical(train_data['y'][:,0])[:,1:]\n",
        "y_test = keras.utils.to_categorical(test_data['y'][:,0])[:,1:]\n",
        "\n",
        "X_train = np.zeros((73257, 32, 32, 3))\n",
        "for i in range(len(X_train)):\n",
        "    X_train[i] = train_data['X'].T[i].T.astype('float32')/255\n",
        "\n",
        "X_test = np.zeros((26032, 32, 32, 3))\n",
        "for i in range(len(X_test)):\n",
        "    X_test[i] = test_data['X'].T[i].T.astype('float32')/255"
      ],
      "execution_count": null,
      "outputs": []
    },
    {
      "cell_type": "code",
      "metadata": {
        "colab": {
          "base_uri": "https://localhost:8080/",
          "height": 390
        },
        "id": "0lLWV0vXMGsL",
        "outputId": "0bbf6cdf-6288-4549-b381-a9d598ceadc1"
      },
      "source": [
        "## Visualize the Image with Label\n",
        "y = train_data['y'][:,0]\n",
        "y =np.where(y==1)[0][0],np.where(y==2)[0][0],np.where(y==3)[0][0],np.where(y==4)[0][0],np.where(y==5)[0][0],np.where(y==6)[0][0],np.where(y==7)[0][0],np.where(y==8)[0][0],np.where(y==9)[0][0],np.where(y==10)[0][0]\n",
        "\n",
        "fig = plt.figure(figsize=(20,6))\n",
        "axes = fig.subplots(nrows=2, ncols=5)\n",
        "\n",
        "axes[0,0].set_title('Label is {}'.format(1))  ## Label \n",
        "axes[0,0].imshow(X_train[y[0]]) ## Image\n",
        "\n",
        "axes[0,1].set_title('Label is {}'.format(2)) \n",
        "axes[0,1].imshow(X_train[y[1]])\n",
        "\n",
        "axes[0,2].set_title('Label is {}'.format(3)) \n",
        "axes[0,2].imshow(X_train[y[2]])\n",
        "\n",
        "axes[0,3].set_title('Label is {}'.format(4)) \n",
        "axes[0,3].imshow(X_train[y[3]])\n",
        "\n",
        "axes[0,4].set_title('Label is {}'.format(5)) \n",
        "axes[0,4].imshow(X_train[y[4]])\n",
        "\n",
        "axes[1,0].set_title('Label is {}'.format(6)) \n",
        "axes[1,0].imshow(X_train[y[5]])\n",
        "\n",
        "axes[1,1].set_title('Label is {}'.format(7)) \n",
        "axes[1,1].imshow(X_train[y[6]])\n",
        "\n",
        "axes[1,2].set_title('Label is {}'.format(8)) \n",
        "axes[1,2].imshow(X_train[y[7]])\n",
        "\n",
        "axes[1,3].set_title('Label is {}'.format(9)) \n",
        "axes[1,3].imshow(X_train[y[8]])\n",
        "\n",
        "axes[1,4].set_title('Label is {}'.format(10)) \n",
        "axes[1,4].imshow(X_train[y[9]])\n",
        "plt.show()"
      ],
      "execution_count": null,
      "outputs": [
        {
          "data": {
            "image/png": "[encoded data removed]",
            "text/plain": [
              "<Figure size 1440x432 with 10 Axes>"
            ]
          },
          "metadata": {
            "tags": []
          },
          "output_type": "display_data"
        }
      ]
    },
    {
      "cell_type": "code",
      "metadata": {
        "colab": {
          "base_uri": "https://localhost:8080/"
        },
        "id": "wYcpUO1mMGj9",
        "outputId": "46d20489-f48f-4352-a018-6af377a3e2f6"
      },
      "source": [
        "# Number of Class\n",
        "np.unique(train_data['y'][:,0])\n",
        "# There are 10 unique classes"
      ],
      "execution_count": null,
      "outputs": [
        {
          "data": {
            "text/plain": [
              "array([ 1,  2,  3,  4,  5,  6,  7,  8,  9, 10], dtype=uint8)"
            ]
          },
          "execution_count": 8,
          "metadata": {
            "tags": []
          },
          "output_type": "execute_result"
        }
      ]
    },
    {
      "cell_type": "code",
      "metadata": {
        "id": "HcaT88mbMZTg"
      },
      "source": [
        "# We will use 3 filters,1 drop out with \n",
        "# Max pooling of 2,2 pixel i.e. taking the max from 2 col & 2 rows\n",
        "# 1 layers of weights i.e. Dense Layer\n",
        "\n",
        "num_classes = 10      # Number of classes to model\n",
        "cnn = Sequential()    \n",
        "cnn.add(Conv2D(32, kernel_size=(4, 4),activation='relu',input_shape=(32, 32, 3))) ## First convolutional layer with (4,4) filter \n",
        "cnn.add(Conv2D(32, kernel_size = (4,4), activation = 'relu'))\n",
        "cnn.add(Conv2D(32, kernel_size = (4,4), activation = 'relu'))\n",
        "cnn.add(Dropout(0.2))\n",
        "cnn.add(MaxPooling2D(pool_size = (2,2)))\n",
        "cnn.add(Flatten())\n",
        "cnn.add(Dense(128, activation = 'relu'))\n",
        "cnn.add(Dense(num_classes, activation='softmax'))\n",
        "    \n",
        "cnn.compile(\"adam\", \"categorical_crossentropy\", metrics=['accuracy'])"
      ],
      "execution_count": null,
      "outputs": []
    },
    {
      "cell_type": "code",
      "metadata": {
        "colab": {
          "base_uri": "https://localhost:8080/"
        },
        "id": "s3a-4cqFMdni",
        "outputId": "3afee839-71f8-4112-e3ec-14ac006e8081"
      },
      "source": [
        "## Train the data using 20 epochs and batch size 128\n",
        "history_cnn = cnn.fit(X_train, y_train,\n",
        "                          batch_size=128, epochs=20, verbose=1, validation_split=.1)\n",
        "\n",
        "scores = cnn.evaluate(X_test, y_test, batch_size = 128, verbose = 0)\n",
        "print(\"%s: %.2f%%\" % (cnn.metrics_names[1], scores[1]*100))"
      ],
      "execution_count": null,
      "outputs": [
        {
          "name": "stdout",
          "output_type": "stream",
          "text": [
            "Epoch 1/20\n",
            "516/516 [==============================] - 274s 529ms/step - loss: 1.4673 - accuracy: 0.4993 - val_loss: 0.4848 - val_accuracy: 0.8649\n",
            "Epoch 2/20\n",
            "516/516 [==============================] - 273s 529ms/step - loss: 0.4432 - accuracy: 0.8709 - val_loss: 0.4010 - val_accuracy: 0.8886\n",
            "Epoch 3/20\n",
            "516/516 [==============================] - 273s 529ms/step - loss: 0.3499 - accuracy: 0.8991 - val_loss: 0.3727 - val_accuracy: 0.8909\n",
            "Epoch 4/20\n",
            "516/516 [==============================] - 273s 528ms/step - loss: 0.3033 - accuracy: 0.9101 - val_loss: 0.3458 - val_accuracy: 0.9014\n",
            "Epoch 5/20\n",
            "516/516 [==============================] - 273s 528ms/step - loss: 0.2560 - accuracy: 0.9264 - val_loss: 0.3256 - val_accuracy: 0.9088\n",
            "Epoch 6/20\n",
            "516/516 [==============================] - 273s 529ms/step - loss: 0.2149 - accuracy: 0.9387 - val_loss: 0.3326 - val_accuracy: 0.9031\n",
            "Epoch 7/20\n",
            "516/516 [==============================] - 272s 528ms/step - loss: 0.1847 - accuracy: 0.9447 - val_loss: 0.3238 - val_accuracy: 0.9080\n",
            "Epoch 8/20\n",
            "516/516 [==============================] - 274s 531ms/step - loss: 0.1531 - accuracy: 0.9540 - val_loss: 0.3682 - val_accuracy: 0.8968\n",
            "Epoch 9/20\n",
            "516/516 [==============================] - 273s 528ms/step - loss: 0.1438 - accuracy: 0.9560 - val_loss: 0.3532 - val_accuracy: 0.9024\n",
            "Epoch 10/20\n",
            "516/516 [==============================] - 273s 529ms/step - loss: 0.1207 - accuracy: 0.9619 - val_loss: 0.3914 - val_accuracy: 0.9006\n",
            "Epoch 11/20\n",
            "516/516 [==============================] - 273s 529ms/step - loss: 0.1199 - accuracy: 0.9622 - val_loss: 0.4058 - val_accuracy: 0.8954\n",
            "Epoch 12/20\n",
            "516/516 [==============================] - 273s 529ms/step - loss: 0.0878 - accuracy: 0.9727 - val_loss: 0.4191 - val_accuracy: 0.8919\n",
            "Epoch 13/20\n",
            "516/516 [==============================] - 273s 530ms/step - loss: 0.0846 - accuracy: 0.9726 - val_loss: 0.4682 - val_accuracy: 0.8941\n",
            "Epoch 14/20\n",
            "516/516 [==============================] - 273s 529ms/step - loss: 0.0692 - accuracy: 0.9774 - val_loss: 0.4358 - val_accuracy: 0.9010\n",
            "Epoch 15/20\n",
            "516/516 [==============================] - 273s 529ms/step - loss: 0.0653 - accuracy: 0.9787 - val_loss: 0.4889 - val_accuracy: 0.8963\n",
            "Epoch 16/20\n",
            "516/516 [==============================] - 273s 530ms/step - loss: 0.0527 - accuracy: 0.9822 - val_loss: 0.5071 - val_accuracy: 0.8928\n",
            "Epoch 17/20\n",
            "516/516 [==============================] - 273s 530ms/step - loss: 0.0826 - accuracy: 0.9756 - val_loss: 0.5327 - val_accuracy: 0.9028\n",
            "Epoch 18/20\n",
            "516/516 [==============================] - 274s 530ms/step - loss: 0.0462 - accuracy: 0.9850 - val_loss: 0.5625 - val_accuracy: 0.8986\n",
            "Epoch 19/20\n",
            "516/516 [==============================] - 273s 530ms/step - loss: 0.0469 - accuracy: 0.9852 - val_loss: 0.5850 - val_accuracy: 0.8957\n",
            "Epoch 20/20\n",
            "516/516 [==============================] - 273s 530ms/step - loss: 0.0454 - accuracy: 0.9846 - val_loss: 0.5864 - val_accuracy: 0.8965\n",
            "accuracy: 88.07%\n"
          ]
        }
      ]
    },
    {
      "cell_type": "code",
      "metadata": {
        "colab": {
          "background_save": true,
          "base_uri": "https://localhost:8080/"
        },
        "id": "wWf-bYgTMdkX",
        "outputId": "544db262-f2f5-452e-d81b-55535ff067b0"
      },
      "source": [
        "# Predict the classes given to model, we do not want probabilities for each class.\n",
        "class_prediction =cnn.predict_classes(X_test,batch_size=128,verbose=True)"
      ],
      "execution_count": null,
      "outputs": [
        {
          "name": "stdout",
          "output_type": "stream",
          "text": [
            "151/204 [=====================>........] - ETA: 4s"
          ]
        }
      ]
    },
    {
      "cell_type": "code",
      "metadata": {
        "colab": {
          "background_save": true
        },
        "id": "tqn0fSLxMdex"
      },
      "source": [
        "# Add the 1 to the classes because it classes was given from 0 to 9 i.e. 10 classes but we want from 1 to 10. Its python functionality that it start from 0.\n",
        "Predicted_class_label=class_prediction+1"
      ],
      "execution_count": null,
      "outputs": []
    },
    {
      "cell_type": "code",
      "metadata": {
        "colab": {
          "background_save": true
        },
        "id": "eb01rAjvMrde",
        "outputId": "55914ec7-d9c2-4e19-bbb6-caaa94b54d48"
      },
      "source": [
        "# Print the Accuracy\n",
        "y_actual = test_data['y'][:,0]\n",
        "print('Predicted Accuracy on Test is {}'.format(accuracy_score(y_actual,Predicted_class_label,normalize=True)*100))"
      ],
      "execution_count": null,
      "outputs": [
        {
          "name": "stdout",
          "output_type": "stream",
          "text": [
            "Predicted Accuracy on Test is 88.07237246465888\n"
          ]
        }
      ]
    },
    {
      "cell_type": "code",
      "metadata": {
        "colab": {
          "background_save": true
        },
        "id": "HWn2HTGiMraI"
      },
      "source": [
        "# Visualize the Image with Actual Label and Predicted Label using imshow function from Matplotlib\n",
        "y = test_data['y'][:,0]\n",
        "\n",
        "fig = plt.figure(figsize=(20,6))\n",
        "axes = fig.subplots(nrows=2, ncols=5)\n",
        "\n",
        "axes[0,0].set_title('Actual {} & Predicted {}'.format(y[0],Predicted_class_label[0]))  ## Label \n",
        "axes[0,0].imshow(X_test[0]) ## Image\n",
        "\n",
        "axes[0,1].set_title('Actual {} & Predicted {}'.format(y[1],Predicted_class_label[1]))\n",
        "axes[0,1].imshow(X_test[1])\n",
        "\n",
        "axes[0,2].set_title('Actual {} & Predicted {}'.format(y[2],Predicted_class_label[2]))\n",
        "axes[0,2].imshow(X_test[2])\n",
        "\n",
        "axes[0,3].set_title('Actual {} & Predicted {}'.format(y[3],Predicted_class_label[3]))\n",
        "axes[0,3].imshow(X_test[3])\n",
        "\n",
        "axes[0,4].set_title('Actual {} & Predicted {}'.format(y[4],Predicted_class_label[4]))\n",
        "axes[0,4].imshow(X_test[4])\n",
        "\n",
        "axes[1,0].set_title('Actual {} & Predicted {}'.format(y[5],Predicted_class_label[5]))\n",
        "axes[1,0].imshow(X_test[5])\n",
        "\n",
        "axes[1,1].set_title('Actual {} & Predicted {}'.format(y[6],Predicted_class_label[6]))\n",
        "axes[1,1].imshow(X_test[6])\n",
        "\n",
        "axes[1,2].set_title('Actual {} & Predicted {}'.format(y[7],Predicted_class_label[7]))\n",
        "axes[1,2].imshow(X_test[7])\n",
        "\n",
        "axes[1,3].set_title('Actual {} & Predicted {}'.format(y[8],Predicted_class_label[8]))\n",
        "axes[1,3].imshow(X_test[8])\n",
        "\n",
        "axes[1,4].set_title('Actual {} & Predicted {}'.format(y[9],Predicted_class_label[9]))\n",
        "axes[1,4].imshow(X_test[9])\n",
        "plt.show()\n"
      ],
      "execution_count": null,
      "outputs": []
    },
    {
      "cell_type": "code",
      "metadata": {
        "colab": {
          "background_save": true
        },
        "id": "JdV9YHxPMdHV"
      },
      "source": [
        "# Visualize the confusion matrix so that we can identify which class was misclassified in which classes minimum or maximum times\n",
        "\n",
        "plt.figure(figsize = (12,6))\n",
        "sns.heatmap(pd.crosstab(y,Predicted_class_label,rownames=['Actual'],colnames=['Predicted']), annot=True,  fmt=\"d\",cmap=\"YlGnBu\",robust =True)\n",
        "plt.show()\n",
        "\n",
        "## As you see 7 number misclassified in 1, 8 in 6, 3 in 9 &5 etc."
      ],
      "execution_count": null,
      "outputs": []
    },
    {
      "cell_type": "code",
      "metadata": {
        "colab": {
          "background_save": true
        },
        "id": "1H42du9PNJec"
      },
      "source": [
        "#Using Batch Normalization\n",
        "# We will use 3 filters,3 drop out with \n",
        "# Batch Normalization to normalize the pixels in each filter so that model each of itself more independently of other layers \n",
        "# Max pooling of 2,2 pixel i.e. taking the max from 2 col & 2 rows\n",
        "# 3 layers of weights i.e. Dense Layer\n",
        "\n",
        "num_classes = 10      # Number of classes to model\n",
        "cnn = Sequential()    \n",
        "cnn.add(Conv2D(32, kernel_size=(4, 4),activation='relu',input_shape=(32, 32, 3))) ## First convolutional layer with (4,4) filter \n",
        "cnn.add(Dropout(0.2))         ## Dropout of 0.2\n",
        "cnn.add(BatchNormalization())\n",
        "cnn.add(Conv2D(32, kernel_size = (4,4), activation = 'relu'))\n",
        "cnn.add(Dropout(0.2))\n",
        "cnn.add(Conv2D(32, kernel_size = (4,4), activation = 'relu'))\n",
        "cnn.add(Dropout(0.2))\n",
        "cnn.add(BatchNormalization(axis = 3))\n",
        "cnn.add(MaxPooling2D(pool_size = (2,2)))\n",
        "cnn.add(Flatten())\n",
        "cnn.add(Dense(128, activation = 'relu'))\n",
        "cnn.add(Dense(128, activation = 'relu'))\n",
        "cnn.add(Dense(num_classes, activation='softmax'))\n",
        "    \n",
        "cnn.compile(\"adam\", \"categorical_crossentropy\", metrics=['accuracy'])"
      ],
      "execution_count": null,
      "outputs": []
    },
    {
      "cell_type": "code",
      "metadata": {
        "colab": {
          "background_save": true
        },
        "id": "neqnjCQtNJbe",
        "outputId": "2bb7eb26-1b92-454b-abae-d46791c68063"
      },
      "source": [
        "# Train the data using 20 epochs and batch size 128\n",
        "history_cnn = cnn.fit(X_train, y_train,\n",
        "                          batch_size=128, epochs=20, verbose=1, validation_split=.1)\n",
        "\n",
        "scores = cnn.evaluate(X_test, y_test, batch_size = 128, verbose = 0)\n",
        "print(\"%s: %.2f%%\" % (cnn.metrics_names[1], scores[1]*100))"
      ],
      "execution_count": null,
      "outputs": [
        {
          "name": "stdout",
          "output_type": "stream",
          "text": [
            "Epoch 1/20\n",
            "516/516 [==============================] - 331s 640ms/step - loss: 1.4257 - accuracy: 0.5263 - val_loss: 1.1825 - val_accuracy: 0.6451\n",
            "Epoch 2/20\n",
            "516/516 [==============================] - 329s 638ms/step - loss: 0.4045 - accuracy: 0.8774 - val_loss: 0.4130 - val_accuracy: 0.8754\n",
            "Epoch 3/20\n",
            "516/516 [==============================] - 329s 638ms/step - loss: 0.2971 - accuracy: 0.9089 - val_loss: 0.4174 - val_accuracy: 0.8733\n",
            "Epoch 4/20\n",
            "516/516 [==============================] - 329s 637ms/step - loss: 0.2465 - accuracy: 0.9249 - val_loss: 0.3892 - val_accuracy: 0.8803\n",
            "Epoch 5/20\n",
            "516/516 [==============================] - 329s 637ms/step - loss: 0.2034 - accuracy: 0.9378 - val_loss: 0.3710 - val_accuracy: 0.8901\n",
            "Epoch 6/20\n",
            "516/516 [==============================] - 330s 639ms/step - loss: 0.1680 - accuracy: 0.9500 - val_loss: 0.4532 - val_accuracy: 0.8640\n",
            "Epoch 7/20\n",
            "516/516 [==============================] - 327s 634ms/step - loss: 0.1398 - accuracy: 0.9566 - val_loss: 0.3629 - val_accuracy: 0.9064\n",
            "Epoch 8/20\n",
            "516/516 [==============================] - 327s 634ms/step - loss: 0.1314 - accuracy: 0.9583 - val_loss: 0.4127 - val_accuracy: 0.8928\n",
            "Epoch 9/20\n",
            "516/516 [==============================] - 327s 635ms/step - loss: 0.1003 - accuracy: 0.9681 - val_loss: 0.5142 - val_accuracy: 0.8664\n",
            "Epoch 10/20\n",
            "516/516 [==============================] - 327s 633ms/step - loss: 0.0850 - accuracy: 0.9722 - val_loss: 0.4094 - val_accuracy: 0.9069\n",
            "Epoch 11/20\n",
            "516/516 [==============================] - 327s 633ms/step - loss: 0.0669 - accuracy: 0.9792 - val_loss: 0.4577 - val_accuracy: 0.8960\n",
            "Epoch 12/20\n",
            "516/516 [==============================] - 326s 632ms/step - loss: 0.0652 - accuracy: 0.9791 - val_loss: 0.4960 - val_accuracy: 0.8849\n",
            "Epoch 13/20\n",
            "516/516 [==============================] - 326s 632ms/step - loss: 0.0620 - accuracy: 0.9802 - val_loss: 0.4640 - val_accuracy: 0.8918\n",
            "Epoch 14/20\n",
            "516/516 [==============================] - 326s 632ms/step - loss: 0.0545 - accuracy: 0.9820 - val_loss: 0.5214 - val_accuracy: 0.8937\n",
            "Epoch 15/20\n",
            "516/516 [==============================] - 326s 632ms/step - loss: 0.0467 - accuracy: 0.9844 - val_loss: 0.4828 - val_accuracy: 0.9028\n",
            "Epoch 16/20\n",
            "516/516 [==============================] - 326s 633ms/step - loss: 0.0407 - accuracy: 0.9863 - val_loss: 0.6173 - val_accuracy: 0.8878\n",
            "Epoch 17/20\n",
            "516/516 [==============================] - 327s 633ms/step - loss: 0.0557 - accuracy: 0.9818 - val_loss: 0.7678 - val_accuracy: 0.8580\n",
            "Epoch 18/20\n",
            "516/516 [==============================] - 327s 634ms/step - loss: 0.0437 - accuracy: 0.9857 - val_loss: 0.6342 - val_accuracy: 0.8860\n",
            "Epoch 19/20\n",
            "516/516 [==============================] - 327s 633ms/step - loss: 0.0407 - accuracy: 0.9866 - val_loss: 0.7825 - val_accuracy: 0.8556\n",
            "Epoch 20/20\n",
            "516/516 [==============================] - 332s 644ms/step - loss: 0.0519 - accuracy: 0.9841 - val_loss: 0.6109 - val_accuracy: 0.8989\n",
            "accuracy: 88.88%\n"
          ]
        }
      ]
    },
    {
      "cell_type": "code",
      "metadata": {
        "colab": {
          "background_save": true
        },
        "id": "RyAwZfw8myuh",
        "outputId": "c6645efe-0c3d-4794-b06c-7be76caaa534"
      },
      "source": [
        "jovian.reset()\n",
        "\n",
        "jovian.log_hyperparams({\n",
        "    'num_epochs': 20,\n",
        "    'batch_size': 128,\n",
        "})"
      ],
      "execution_count": null,
      "outputs": [
        {
          "name": "stdout",
          "output_type": "stream",
          "text": [
            "[jovian] Hyperparams logged.\u001b[0m\n"
          ]
        }
      ]
    },
    {
      "cell_type": "code",
      "metadata": {
        "colab": {
          "background_save": true
        },
        "id": "3a3GFo8-NQYn"
      },
      "source": [
        "# Save the batch model so that we can reuse this instead of running train again.\n",
        "cnn.save('svhn_model_normal.h5')"
      ],
      "execution_count": null,
      "outputs": []
    },
    {
      "cell_type": "code",
      "metadata": {
        "id": "rRtKVnVxNP2w"
      },
      "source": [
        "# Predict the classes given to model, we do not want probabilities for each class.\n",
        "class_prediction =cnn.predict_classes(X_test,batch_size=128,verbose=True)"
      ],
      "execution_count": null,
      "outputs": []
    },
    {
      "cell_type": "code",
      "metadata": {
        "colab": {
          "background_save": true
        },
        "id": "2ozttgPoNfdd"
      },
      "source": [
        "# Add the 1 to the classes because it classes was given from 0 to 9 i.e. 10 classes but we want from 1 to 10. Its python functionality that it start from 0.\n",
        "Predicted_class_label=class_prediction+1"
      ],
      "execution_count": null,
      "outputs": []
    },
    {
      "cell_type": "code",
      "metadata": {
        "colab": {
          "background_save": true
        },
        "id": "LPWeW6XZNfa1",
        "outputId": "fff9c127-de89-4ef3-da6e-abf45e737238"
      },
      "source": [
        "# Print the Accuracy\n",
        "y_actual = test_data['y'][:,0]\n",
        "print('Predicted Accuracy on Test is {}'.format(accuracy_score(y_actual,Predicted_class_label,normalize=True)*100))"
      ],
      "execution_count": null,
      "outputs": [
        {
          "name": "stdout",
          "output_type": "stream",
          "text": [
            "Predicted Accuracy on Test is 88.88291333743086\n"
          ]
        }
      ]
    },
    {
      "cell_type": "code",
      "metadata": {
        "colab": {
          "background_save": true
        },
        "id": "NLSl4WKiNfX1",
        "outputId": "cde22d51-cb1d-47c4-d332-04615db75349"
      },
      "source": [
        "# Visualize the Image with Actual Label and Predicted Label using imshow function from Matplotlib\n",
        "y = test_data['y'][:,0]\n",
        "\n",
        "fig = plt.figure(figsize=(20,6))\n",
        "axes = fig.subplots(nrows=2, ncols=5)\n",
        "\n",
        "axes[0,0].set_title('Actual {} & Predicted {}'.format(y[0],Predicted_class_label[0]))  ## Label \n",
        "axes[0,0].imshow(X_test[0]) ## Image\n",
        "\n",
        "axes[0,1].set_title('Actual {} & Predicted {}'.format(y[1],Predicted_class_label[1]))\n",
        "axes[0,1].imshow(X_test[1])\n",
        "\n",
        "axes[0,2].set_title('Actual {} & Predicted {}'.format(y[2],Predicted_class_label[2]))\n",
        "axes[0,2].imshow(X_test[2])\n",
        "\n",
        "axes[0,3].set_title('Actual {} & Predicted {}'.format(y[3],Predicted_class_label[3]))\n",
        "axes[0,3].imshow(X_test[3])\n",
        "\n",
        "axes[0,4].set_title('Actual {} & Predicted {}'.format(y[4],Predicted_class_label[4]))\n",
        "axes[0,4].imshow(X_test[4])\n",
        "\n",
        "axes[1,0].set_title('Actual {} & Predicted {}'.format(y[5],Predicted_class_label[5]))\n",
        "axes[1,0].imshow(X_test[5])\n",
        "\n",
        "axes[1,1].set_title('Actual {} & Predicted {}'.format(y[6],Predicted_class_label[6]))\n",
        "axes[1,1].imshow(X_test[6])\n",
        "\n",
        "axes[1,2].set_title('Actual {} & Predicted {}'.format(y[7],Predicted_class_label[7]))\n",
        "axes[1,2].imshow(X_test[7])\n",
        "\n",
        "axes[1,3].set_title('Actual {} & Predicted {}'.format(y[8],Predicted_class_label[8]))\n",
        "axes[1,3].imshow(X_test[8])\n",
        "\n",
        "axes[1,4].set_title('Actual {} & Predicted {}'.format(y[9],Predicted_class_label[9]))\n",
        "axes[1,4].imshow(X_test[9])\n",
        "plt.show()\n"
      ],
      "execution_count": null,
      "outputs": [
        {
          "data": {
            "image/png": "[encoded data removed]",
            "text/plain": [
              "<Figure size 1440x432 with 10 Axes>"
            ]
          },
          "metadata": {},
          "output_type": "display_data"
        }
      ]
    },
    {
      "cell_type": "code",
      "metadata": {
        "id": "a92MKxiBNfTh"
      },
      "source": [
        "# Visualize the confusion matrix so that we can identify which class was misclassified in which classes minimum or maximum times\n",
        "\n",
        "plt.figure(figsize = (12,6))\n",
        "sns.heatmap(pd.crosstab(y,Predicted_class_label,rownames=['Actual'],colnames=['Predicted']), annot=True,  fmt=\"d\",cmap=\"YlGnBu\",robust =True)\n",
        "plt.show()\n",
        "\n",
        "## As you see 7 number misclassified in 1, 8 in 6, 3 in 9 &5 etc."
      ],
      "execution_count": null,
      "outputs": []
    },
    {
      "cell_type": "code",
      "metadata": {
        "id": "sr8rwgIPmykh"
      },
      "source": [
        "jovian.commit(project=project_name, environment=None)"
      ],
      "execution_count": null,
      "outputs": []
    }
  ]
}